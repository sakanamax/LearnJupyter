{
 "cells": [
  {
   "cell_type": "markdown",
   "metadata": {},
   "source": [
    "## 請先登入到 DitigalOcean\n",
    "\n",
    "### https://cloud.digitalocean.com\n",
    "\n",
    "\n",
    "## 建立 Access Token\n",
    "\n",
    "點選 API\n",
    "\n",
    "點選 Generate New Token\n",
    "\n",
    "![Alt text](https://lh5.googleusercontent.com/YmnhB7UTVa1qDpVsui1IKx3t_dgx4pXoPxb0PW1B94JaOUBlph6BeZ-4xfg_CCQCKebOPh9tjt2cXKnhrK_LgAVyUiDgx9dugyT-7WQz13NyRLpTdxkHgiw3NHe7N30txz4RDVEs)\n",
    "\n",
    "\n",
    "輸入 Token 名稱\n",
    "\n",
    "點選 Generate Token\n",
    "\n",
    "![Alt text](https://lh4.googleusercontent.com/lpN3WJbwY5JNIRyCsPu2PigGpYr0GSpRmaAPlowHA87ShG03Khx482IIv_IABriSBdea8EY_CGMUvSggs0q56YX9HtJM2q_vrbQ18qRNYCQJVOLwERwxQyhSKGanMiKyvJHNNHY4)\n",
    "\n",
    "\n",
    "接下來就會看到剛剛建立的 token\n",
    "\n",
    "![Alt text](https://lh4.googleusercontent.com/8LFTtyYojmv_zDW_NVnPCm1soJDo5Z26RyGIp5UfbGiPsNDGDJTP89psxUUClA_CfgOzjGTQgaTykkmPjQzyMaSItfZUs_YeIZfZu69RDW7wF_mEvJBxIGYFTwEnYdqkbi21ftHE)\n",
    "\n",
    "\n",
    "### Token 只會出現一次 ~~ 不會回來, 記得複製下來 ( 不然就重新建立一個 XD )\n",
    "\n",
    "\n",
    "\n",
    "#### 以下的指令, 在 docker 裏面使用, 如果是使用 play with docker\n",
    "\n",
    "查詢 CONTAINERID 指令 docker ps\n",
    "\n",
    "使用 docker  exec  it  CONTAIENRID  /bin/bash 進入容器內的命令列\n",
    "\n",
    "## 先來裝 後面需要的套件吧, 請將下面的指令複製貼上到命令列上面（Ctrl + Shift + V）\n"
   ]
  },
  {
   "cell_type": "markdown",
   "metadata": {},
   "source": [
    "zypper  -n  install curl wget python-pip jq"
   ]
  },
  {
   "cell_type": "markdown",
   "metadata": {},
   "source": [
    "## DigitalOcean 需要dopy套件 還有其他的, 一起來安裝\n",
    "\n",
    "pip  install   dopy\n",
    "\n",
    "升級 pip\n",
    "\n",
    "pip  install --upgrade  pip\n",
    "\n",
    "使用 pip 安裝 ansible\n",
    "\n",
    "pip2  install ansible\n",
    "\n",
    "確認一下 ansible 的資訊\n",
    "\n",
    "ansible   --version"
   ]
  },
  {
   "cell_type": "markdown",
   "metadata": {},
   "source": [
    " "
   ]
  },
  {
   "cell_type": "markdown",
   "metadata": {},
   "source": [
    "## 開始相關測試\n",
    "\n",
    "export TOKEN=剛剛建立的TOKEN\n",
    "\n",
    "### 列出 action\n",
    "\n",
    "curl  -X  GET \"https://api.digitalocean.com/v2/actions\" -H \"Authorization: Bearer $TOKEN\"\n",
    "\n",
    "### 但是我覺得這樣的方式可讀性比較低, 所以我是搭配 jq\n",
    "curl  -X  GET \"https://api.digitalocean.com/v2/actions\" -H \"Authorization: Bearer $TOKEN\"  |  jq\n",
    "\n",
    "### 列出 Droplets\n",
    "\n",
    "把剛剛的 actions 換成 droplets 就可以\n",
    "\n",
    "curl  -X  GET \"https://api.digitalocean.com/v2/droplets\" -H \"Authorization: Bearer $TOKEN\"  |  jq\n",
    "\n",
    "\n",
    "### 建立 Droplet\n",
    "\n",
    "curl  -X  POST \"https://api.digitalocean.com/v2/droplets\" -d '{\"name\":\"My-Droplet\",\"region\":\"nyc3\",\"size\":\"512mb\",\"image\":\"ubuntu-14-04-x64\"}' -H \"Authorization: Bearer $TOKEN\"  -H  \"Content-Type: application/json\" | jq\n",
    "\n",
    "Droplet API 的參數用法要看這邊\n",
    "\n",
    "https://developers.digitalocean.com/documentation/v2/#create-a-new-droplet \n",
    "\n",
    "\n",
    "## 可以回到 DigitalOcean dashboard 觀察\n",
    "\n",
    "### 刪除 Droplets\n",
    "\n",
    "那如果要刪除某一個  Droplet, 就要先去查詢他的 droplet id\n",
    "\n",
    "可以用剛剛的方式加上 grep 來列\n",
    "\n",
    "curl  -X  GET \"https://api.digitalocean.com/v2/droplets\" -H \"Authorization: Bearer $TOKEN\"  |  grep '\"id\":'\n",
    "\n",
    "\n",
    "然後就是 curl 使用 DELETE 加上 droplet 的 id\n",
    "\n",
    "### 例如某一個 droplet id 是 88444260, 就會像下面這樣\n",
    "\n",
    "\n",
    "curl  -X  DELETE \"https://api.digitalocean.com/v2/droplets/88444260\"  -H \"Authorization: Bearer $TOKEN\"  -H  \"Content-Type: application/json\" | jq\n",
    "\n",
    "## 可以回到 DigitalOcean dashboard 觀察\n",
    "\n",
    "============================================================================ \n",
    "\n",
    "\n",
    "## 接下來實驗 ansible playbook with DigitalOcean\n",
    "\n",
    "抓個 playbook 來看看\n",
    "\n",
    "wget https://raw.githubusercontent.com/sakanamax/LearnAnsible/master/playbook/digital_ocean_playbook/create_do_vm.yml\n",
    "\n",
    "wget https://raw.githubusercontent.com/sakanamax/LearnAnsible/master/playbook/digital_ocean_playbook/delete_do_vm.yml\n",
    "\n",
    "## 測試 1: 建立 單一 Droplet\n",
    "\n",
    "ansible-playbook   create_do_vm.yml \n",
    "\n"
   ]
  },
  {
   "cell_type": "code",
   "execution_count": null,
   "metadata": {
    "collapsed": true
   },
   "outputs": [],
   "source": [
    " [WARNING]: Unable to parse /etc/ansible/hosts as an inventory source\n",
    "\n",
    "\n",
    " [WARNING]: No inventory was parsed, only implicit localhost is available\n",
    "\n",
    "\n",
    " [WARNING]: provided hosts list is empty, only localhost is available. Note that the implicit localhost does not match 'all'\n",
    "\n",
    "\n",
    "Enter Digital Ocean API Token: 貼上你的token\n",
    "Enter Droplet's name [test01]: \n",
    "Enter region name [sgp1]: \n",
    "Enter image name [ubuntu-16-04-x64]: \n",
    "\n",
    "\n",
    "PLAY [use when conditional and setup module] ********************\n",
    "\n",
    "\n",
    "\n",
    "這邊就是把 TOKEN 貼上, 然後輸入 Droplet 名稱, 區域還有 image 名稱就好, 我預設是 2gb"
   ]
  },
  {
   "cell_type": "markdown",
   "metadata": {},
   "source": [
    "## 測試 2: 刪除 Droplets\n",
    "\n",
    "ansible-playbook   delete_do_vm.yml "
   ]
  },
  {
   "cell_type": "code",
   "execution_count": null,
   "metadata": {
    "collapsed": true
   },
   "outputs": [],
   "source": [
    "[WARNING]: provided hosts list is empty, only localhost is available. Note that the implicit localhost does not match 'all'\n",
    "\n",
    "Enter Digital Ocean API Token: 貼上你的token\n",
    "Enter Droplet's name [test01]:\n",
    "\n",
    "PLAY [use when conditional and setup module] ***********************************************************************************************************************************************\n",
    "\n",
    "TASK [Gathering Facts] *********************************************************************************************************************************************************************\n",
    "ok: [localhost]\n",
    "\n",
    "TASK [delete digital ocean droplet] ********************************************************************************************************************************************************\n",
    "changed: [localhost]\n",
    "\n",
    "PLAY RECAP *********************************************************************************************************************************************************************************\n",
    "localhost                  : ok=2    changed=1    unreachable=0    failed=0"
   ]
  },
  {
   "cell_type": "markdown",
   "metadata": {},
   "source": [
    "# 最後別忘記到 DigitalOcean 刪掉 token"
   ]
  },
  {
   "cell_type": "markdown",
   "metadata": {},
   "source": []
  }
 ],
 "metadata": {
  "kernelspec": {
   "display_name": "Python 3",
   "language": "python",
   "name": "python3"
  },
  "language_info": {
   "codemirror_mode": {
    "name": "ipython",
    "version": 3
   },
   "file_extension": ".py",
   "mimetype": "text/x-python",
   "name": "python",
   "nbconvert_exporter": "python",
   "pygments_lexer": "ipython3",
   "version": "3.4.5"
  }
 },
 "nbformat": 4,
 "nbformat_minor": 2
}
